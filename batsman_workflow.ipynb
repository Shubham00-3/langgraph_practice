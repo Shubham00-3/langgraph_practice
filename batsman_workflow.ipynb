{
 "cells": [
  {
   "cell_type": "code",
   "execution_count": 2,
   "id": "1527c725",
   "metadata": {},
   "outputs": [],
   "source": [
    "from langgraph.graph import StateGraph\n",
    "from langgraph.graph import START, END\n",
    "from typing import TypedDict"
   ]
  },
  {
   "cell_type": "code",
   "execution_count": 5,
   "id": "ba06513d",
   "metadata": {},
   "outputs": [],
   "source": [
    "class BatsmanState(TypedDict):\n",
    "    runs: int\n",
    "    balls: int\n",
    "    fours: int\n",
    "    sixes: int\n",
    "\n",
    "    sr: float\n",
    "    bpd: float\n",
    "    boundary_percent: float\n",
    "    summary: str\n",
    "    "
   ]
  },
  {
   "cell_type": "code",
   "execution_count": 29,
   "id": "700da5da",
   "metadata": {},
   "outputs": [],
   "source": [
    "def calculate_sr(state:BatsmanState):\n",
    "\n",
    "    sr=(state['runs']/state['balls'])*100\n",
    "\n",
    "    \n",
    "\n",
    "    return {'sr': sr}"
   ]
  },
  {
   "cell_type": "code",
   "execution_count": 17,
   "id": "79f31212",
   "metadata": {},
   "outputs": [],
   "source": [
    "def calculate_bpd(state: BatsmanState):\n",
    "\n",
    "    bpd= state['balls']/(state['fours']+state['sixes'])\n",
    "    \n",
    "    return {'bpd': bpd}"
   ]
  },
  {
   "cell_type": "code",
   "execution_count": 30,
   "id": "cf49b994",
   "metadata": {},
   "outputs": [],
   "source": [
    "def calculate_boundary_percent(state: BatsmanState):\n",
    "\tboundary_percent = (((state['fours'] * 4) + (state['sixes'] * 6)) / state['runs']) * 100\n",
    "\t\n",
    "\treturn {'boundary_percent': boundary_percent}"
   ]
  },
  {
   "cell_type": "code",
   "execution_count": 31,
   "id": "7d6225da",
   "metadata": {},
   "outputs": [],
   "source": [
    "def summary(state: BatsmanState):\n",
    "\n",
    "    summary= f\"\"\"\n",
    "\n",
    "Strike Rate- {state['sr']}\\\n",
    "Balls per Boundary - {state['bpd']} \\n\n",
    "Boundary percent - {state['boundary_percent']}\n",
    "\"\"\" \n",
    "    \n",
    "\n",
    "    return {'summary': summary}"
   ]
  },
  {
   "cell_type": "code",
   "execution_count": 32,
   "id": "c4fe52e0",
   "metadata": {},
   "outputs": [],
   "source": [
    "graph= StateGraph(BatsmanState)\n",
    "\n",
    "graph.add_node('calculate_sr', calculate_sr)\n",
    "graph.add_node('calculate_bpd', calculate_bpd)\n",
    "graph.add_node('calculate_boundary_percent', calculate_boundary_percent)\n",
    "graph.add_node('summary', summary)\n",
    "\n",
    "\n",
    "#edges\n",
    "\n",
    "graph.add_edge(START, 'calculate_sr')\n",
    "graph.add_edge(START, 'calculate_bpd')\n",
    "graph.add_edge(START, 'calculate_boundary_percent')\n",
    "\n",
    "\n",
    "graph.add_edge('calculate_sr','summary')\n",
    "graph.add_edge('calculate_bpd','summary')\n",
    "graph.add_edge('calculate_boundary_percent','summary')\n",
    "\n",
    "graph.add_edge('summary',END)\n",
    "\n",
    "workflow=graph.compile()"
   ]
  },
  {
   "cell_type": "code",
   "execution_count": 33,
   "id": "d8d2b076",
   "metadata": {},
   "outputs": [
    {
     "data": {
      "image/png": "[encoded data removed]",
      "text/plain": [
       "<langgraph.graph.state.CompiledStateGraph object at 0x0000021699B96C10>"
      ]
     },
     "execution_count": 33,
     "metadata": {},
     "output_type": "execute_result"
    }
   ],
   "source": [
    "workflow"
   ]
  },
  {
   "cell_type": "code",
   "execution_count": 34,
   "id": "c0edf13f",
   "metadata": {},
   "outputs": [
    {
     "data": {
      "text/plain": [
       "{'runs': 100,\n",
       " 'balls': 60,\n",
       " 'fours': 8,\n",
       " 'sixes': 4,\n",
       " 'sr': 166.66666666666669,\n",
       " 'bpd': 5.0,\n",
       " 'boundary_percent': 56.00000000000001,\n",
       " 'summary': '\\n\\nStrike Rate- 166.66666666666669Balls per Boundary - 5.0 \\n\\nBoundary percent - 56.00000000000001\\n'}"
      ]
     },
     "execution_count": 34,
     "metadata": {},
     "output_type": "execute_result"
    }
   ],
   "source": [
    "initial_state= {\n",
    "    'runs': 100,\n",
    "    'balls': 60,\n",
    "    'fours': 8,\n",
    "    'sixes': 4,\n",
    "    \n",
    "}\n",
    "\n",
    "workflow.invoke(initial_state)"
   ]
  }
 ],
 "metadata": {
  "kernelspec": {
   "display_name": "myenv",
   "language": "python",
   "name": "python3"
  },
  "language_info": {
   "codemirror_mode": {
    "name": "ipython",
    "version": 3
   },
   "file_extension": ".py",
   "mimetype": "text/x-python",
   "name": "python",
   "nbconvert_exporter": "python",
   "pygments_lexer": "ipython3",
   "version": "3.13.3"
  }
 },
 "nbformat": 4,
 "nbformat_minor": 5
}
